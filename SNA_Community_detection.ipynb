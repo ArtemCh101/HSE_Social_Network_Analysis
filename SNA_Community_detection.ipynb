{
 "cells": [
  {
   "cell_type": "code",
   "execution_count": 1,
   "id": "5a4305bb",
   "metadata": {},
   "outputs": [],
   "source": [
    "#pip install pycairo \n",
    "#pip install igraph"
   ]
  },
  {
   "cell_type": "code",
   "execution_count": 2,
   "id": "f5109af8",
   "metadata": {},
   "outputs": [],
   "source": [
    "from igraph import*\n",
    "from math import floor\n",
    "import pandas as pd\n",
    "import os\n",
    "import networkx as nx"
   ]
  },
  {
   "cell_type": "code",
   "execution_count": 3,
   "id": "299cc62e",
   "metadata": {},
   "outputs": [],
   "source": [
    "G = nx.read_edgelist(\"test.edgelist\", delimiter=\" \")\n",
    "g = Graph.from_networkx(G)\n",
    "g.to_undirected()"
   ]
  },
  {
   "cell_type": "markdown",
   "id": "aa6e4d65",
   "metadata": {},
   "source": [
    "I will be using more advance version of Louvian algorithm, which improves modularity"
   ]
  },
  {
   "cell_type": "code",
   "execution_count": 4,
   "id": "f0742bc0",
   "metadata": {},
   "outputs": [
    {
     "name": "stdout",
     "output_type": "stream",
     "text": [
      "0.6546256139319327\n"
     ]
    }
   ],
   "source": [
    "leiden_membership = g.community_leiden(objective_function=\"modularity\",n_iterations=50)\n",
    "modularity = g.modularity(leiden_membership,directed=False)\n",
    "print(modularity)"
   ]
  },
  {
   "cell_type": "code",
   "execution_count": 5,
   "id": "79667c9b",
   "metadata": {},
   "outputs": [],
   "source": [
    "vs = g.vs"
   ]
  },
  {
   "cell_type": "code",
   "execution_count": 6,
   "id": "0066fab1",
   "metadata": {},
   "outputs": [],
   "source": [
    "members = leiden_membership.membership"
   ]
  },
  {
   "cell_type": "code",
   "execution_count": 7,
   "id": "74c100e9",
   "metadata": {},
   "outputs": [],
   "source": [
    "id_nx = list(x for x in range(len(members)))\n",
    "\n",
    "for i in range(len(id_nx)):\n",
    "    id_nx[i] = vs[i]['_nx_name'] "
   ]
  },
  {
   "cell_type": "code",
   "execution_count": 8,
   "id": "7ab521a7",
   "metadata": {},
   "outputs": [
    {
     "name": "stdout",
     "output_type": "stream",
     "text": [
      "          id  community\n",
      "0          1          0\n",
      "1          2          1\n",
      "2          3          0\n",
      "3          4          0\n",
      "4          5          0\n",
      "...      ...        ...\n",
      "12124  12587         61\n",
      "12125  12588         62\n",
      "12126  12589         62\n",
      "12127  12590         63\n",
      "12128  12591         63\n",
      "\n",
      "[12129 rows x 2 columns]\n"
     ]
    }
   ],
   "source": [
    "data = {\"id\": id_nx,\n",
    "    'community': members}\n",
    "DF = pd.DataFrame(data)\n",
    "print(DF)"
   ]
  },
  {
   "cell_type": "code",
   "execution_count": 9,
   "id": "49c525bf",
   "metadata": {},
   "outputs": [],
   "source": [
    "DF.to_csv(\"output.csv\",index=False)"
   ]
  },
  {
   "cell_type": "markdown",
   "id": "d1dcaa5b",
   "metadata": {},
   "source": [
    "Checking the results"
   ]
  },
  {
   "cell_type": "code",
   "execution_count": 10,
   "id": "29d7e823",
   "metadata": {},
   "outputs": [
    {
     "data": {
      "text/html": [
       "<div>\n",
       "<style scoped>\n",
       "    .dataframe tbody tr th:only-of-type {\n",
       "        vertical-align: middle;\n",
       "    }\n",
       "\n",
       "    .dataframe tbody tr th {\n",
       "        vertical-align: top;\n",
       "    }\n",
       "\n",
       "    .dataframe thead th {\n",
       "        text-align: right;\n",
       "    }\n",
       "</style>\n",
       "<table border=\"1\" class=\"dataframe\">\n",
       "  <thead>\n",
       "    <tr style=\"text-align: right;\">\n",
       "      <th></th>\n",
       "      <th>node</th>\n",
       "      <th>label</th>\n",
       "    </tr>\n",
       "  </thead>\n",
       "  <tbody>\n",
       "    <tr>\n",
       "      <th>0</th>\n",
       "      <td>1</td>\n",
       "      <td>0</td>\n",
       "    </tr>\n",
       "    <tr>\n",
       "      <th>1</th>\n",
       "      <td>2</td>\n",
       "      <td>1</td>\n",
       "    </tr>\n",
       "    <tr>\n",
       "      <th>2</th>\n",
       "      <td>3</td>\n",
       "      <td>0</td>\n",
       "    </tr>\n",
       "    <tr>\n",
       "      <th>3</th>\n",
       "      <td>4</td>\n",
       "      <td>0</td>\n",
       "    </tr>\n",
       "    <tr>\n",
       "      <th>4</th>\n",
       "      <td>5</td>\n",
       "      <td>0</td>\n",
       "    </tr>\n",
       "  </tbody>\n",
       "</table>\n",
       "</div>"
      ],
      "text/plain": [
       "   node  label\n",
       "0     1      0\n",
       "1     2      1\n",
       "2     3      0\n",
       "3     4      0\n",
       "4     5      0"
      ]
     },
     "execution_count": 10,
     "metadata": {},
     "output_type": "execute_result"
    }
   ],
   "source": [
    "df = pd.read_csv(\"output.csv\")\n",
    "\n",
    "df.columns.values[0] = \"node\"\n",
    "df.columns.values[1] = \"label\"\n",
    "\n",
    "df.head()\n"
   ]
  },
  {
   "cell_type": "code",
   "execution_count": 11,
   "id": "d8f8ee60",
   "metadata": {},
   "outputs": [],
   "source": [
    "clusters = []\n",
    "\n",
    "df_g = df.groupby(\"label\")\n",
    "labels = df[\"label\"].unique()\n",
    "\n",
    "for i in labels:\n",
    "    group = df_g.get_group(i)[\"node\"]\n",
    "    clusters.append(set(group.astype(str)))"
   ]
  },
  {
   "cell_type": "code",
   "execution_count": 12,
   "id": "6810bd7e",
   "metadata": {},
   "outputs": [
    {
     "name": "stdout",
     "output_type": "stream",
     "text": [
      "Answer: 0.6546256139319312\n"
     ]
    }
   ],
   "source": [
    "G = nx.read_edgelist(\"test.edgelist\", delimiter=\" \")\n",
    "print(\"Answer:\", nx.community.modularity(G, clusters))"
   ]
  }
 ],
 "metadata": {
  "kernelspec": {
   "display_name": "Python 3 (ipykernel)",
   "language": "python",
   "name": "python3"
  },
  "language_info": {
   "codemirror_mode": {
    "name": "ipython",
    "version": 3
   },
   "file_extension": ".py",
   "mimetype": "text/x-python",
   "name": "python",
   "nbconvert_exporter": "python",
   "pygments_lexer": "ipython3",
   "version": "3.10.9"
  }
 },
 "nbformat": 4,
 "nbformat_minor": 5
}
